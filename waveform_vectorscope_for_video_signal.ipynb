{
 "cells": [
  {
   "cell_type": "markdown",
   "metadata": {},
   "source": [
    "### waveform / vectorscope example"
   ]
  },
  {
   "cell_type": "code",
   "execution_count": 57,
   "metadata": {},
   "outputs": [
    {
     "ename": "AttributeError",
     "evalue": "'numpy.ndarray' object has no attribute 'name'",
     "output_type": "error",
     "traceback": [
      "\u001b[1;31m---------------------------------------------------------------------------\u001b[0m",
      "\u001b[1;31mAttributeError\u001b[0m                            Traceback (most recent call last)",
      "\u001b[1;32m<ipython-input-57-b599fda3fa6e>\u001b[0m in \u001b[0;36m<module>\u001b[1;34m\u001b[0m\n\u001b[0;32m     18\u001b[0m \u001b[1;31m# image1 = cv2.imread('1008px-SMPTE_Color_Bars.svg.png')\u001b[0m\u001b[1;33m\u001b[0m\u001b[1;33m\u001b[0m\u001b[1;33m\u001b[0m\u001b[0m\n\u001b[0;32m     19\u001b[0m \u001b[0mimage1\u001b[0m \u001b[1;33m=\u001b[0m \u001b[0mcv2\u001b[0m\u001b[1;33m.\u001b[0m\u001b[0mimread\u001b[0m\u001b[1;33m(\u001b[0m\u001b[1;34m'100_smpte169_bright.jpg'\u001b[0m\u001b[1;33m)\u001b[0m\u001b[1;33m\u001b[0m\u001b[1;33m\u001b[0m\u001b[0m\n\u001b[1;32m---> 20\u001b[1;33m \u001b[0mprint\u001b[0m\u001b[1;33m(\u001b[0m\u001b[0mimage1\u001b[0m\u001b[1;33m.\u001b[0m\u001b[0mname\u001b[0m\u001b[1;33m)\u001b[0m\u001b[1;33m\u001b[0m\u001b[1;33m\u001b[0m\u001b[0m\n\u001b[0m\u001b[0;32m     21\u001b[0m \u001b[1;31m# cv2.imshow(\"test\", image1)\u001b[0m\u001b[1;33m\u001b[0m\u001b[1;33m\u001b[0m\u001b[1;33m\u001b[0m\u001b[0m\n\u001b[0;32m     22\u001b[0m \u001b[1;31m# cv2.waitKey(0)\u001b[0m\u001b[1;33m\u001b[0m\u001b[1;33m\u001b[0m\u001b[1;33m\u001b[0m\u001b[0m\n",
      "\u001b[1;31mAttributeError\u001b[0m: 'numpy.ndarray' object has no attribute 'name'"
     ]
    }
   ],
   "source": [
    "import numpy as np\n",
    "from matplotlib import pyplot as plt\n",
    "import cv2\n",
    "\n",
    "#input is a RGB numpy array with shape (height,width,3), can be uint,int, float or double, values expected in the range 0..255\n",
    "#output is a double YUV numpy array with shape (height,width,3), values in the range 0..255\n",
    "def RGB2YUV( rgb ):\n",
    "    m = np.array([[0.299, -0.16874, 0.50000],\n",
    "                 [0.587, -0.33126 , -0.41869],\n",
    "                 [0.11400, 0.5000, -0.08131]])\n",
    "    yuv = np.dot(rgb,m)\n",
    "    #yuv[:,:,1:]+=128.0\n",
    "    return yuv\n",
    "\n",
    "# image1 = cv2.imread('16gray.png')\n",
    "# image1 = cv2.imread('small_16_gray.png')\n",
    "# image1 = cv2.imread('kkobuki.jpg')\n",
    "# image1 = cv2.imread('1008px-SMPTE_Color_Bars.svg.png')\n",
    "image1 = cv2.imread('100_smpte169_bright.jpg')\n",
    "# cv2.imshow(\"test\", image1)\n",
    "# cv2.waitKey(0)\n",
    "\n",
    "\n",
    "## openCV read imagefile to B,G,R order\n",
    "## so, re arrange to R, G, B order\n",
    "b, g, r = cv2.split(image1)\n",
    "image2 = cv2.merge([r,g,b])\n",
    "\n",
    "\n",
    "image3_yuv = RGB2YUV( image2 )\n",
    "\n",
    "y, uv = np.split(image3_yuv, [1], axis=2)\n",
    "u, v = np.split(uv, [1], axis=2)\n",
    "\n",
    "serial_u = np.ravel(u, order='C') # order like C language\n",
    "serial_v = np.ravel(v, order='C') # order like C language\n",
    "serial_y = np.ravel(y, order='C') \n",
    "\n",
    "# draw vectorscope\n",
    "plt.plot([-43],  [128],  'rs') # s: square\n",
    "plt.plot([-84],  [-106], 'gs') # s: square\n",
    "plt.plot([128],  [-20],  'bs') # s: square\n",
    "\n",
    "plt.plot([44],   [-127], 'cs') # s: square\n",
    "plt.plot([85],   [107],  'ms') # s: square\n",
    "plt.plot([-127], [21],   'ys') # s: square\n",
    "\n",
    "plt.plot(serial_u, serial_v,'r')\n",
    "\n",
    "# https://www.mikekohn.net/file_formats/yuv_rgb_converter.php\n",
    "plt.show()\n",
    "\n",
    "\n",
    "\n",
    "# draw waveform\n",
    "\n",
    "# make width array for drawing\n",
    "print(\"read image shape\",image1.shape) # check width, height, color channel\n",
    "print(\"read image height\",image1.shape[0]) # get width only\n",
    "print(\"read image width\",image1.shape[1]) # get height only\n",
    "\n",
    "height = image1.shape[0]\n",
    "width = image1.shape[1]\n",
    "\n",
    "array_x = np.zeros(width*height)\n",
    "\n",
    "for i in range(height):\n",
    "    for j in range(width):\n",
    "        array_x[(i*width)+j] = j\n",
    "        #print((i*width)+j, \" \",j)\n",
    "\n",
    "print(array_x)\n",
    "print(array_x.size)\n",
    "print(serial_y)\n",
    "print(serial_y.size)\n",
    "        \n",
    "plt.plot(array_x, serial_y, '*')"
   ]
  },
  {
   "cell_type": "code",
   "execution_count": null,
   "metadata": {},
   "outputs": [],
   "source": []
  }
 ],
 "metadata": {
  "kernelspec": {
   "display_name": "Python 3",
   "language": "python",
   "name": "python3"
  },
  "language_info": {
   "codemirror_mode": {
    "name": "ipython",
    "version": 3
   },
   "file_extension": ".py",
   "mimetype": "text/x-python",
   "name": "python",
   "nbconvert_exporter": "python",
   "pygments_lexer": "ipython3",
   "version": "3.8.5"
  }
 },
 "nbformat": 4,
 "nbformat_minor": 4
}
